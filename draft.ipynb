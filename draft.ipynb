{
 "cells": [
  {
   "cell_type": "code",
   "execution_count": 2,
   "id": "3906b934",
   "metadata": {},
   "outputs": [
    {
     "name": "stderr",
     "output_type": "stream",
     "text": [
      "2025-08-25 17:16:26,134 - mcp_manager.py - 141 - INFO - Initializing MCP tools from mcp servers: ['file_system', 'search']\n",
      "2025-08-25 17:16:26,141 - mcp_manager.py - 370 - INFO - Initializing a MCP stdio_client, if this takes forever, please check the config of this mcp server: file_system\n",
      "2025-08-25 17:16:37,696 - mcp_manager.py - 370 - INFO - Initializing a MCP stdio_client, if this takes forever, please check the config of this mcp server: search\n"
     ]
    }
   ],
   "source": [
    "from qwen_agent.tools import TOOL_REGISTRY, MCPManager, BaseTool\n",
    "import json\n",
    "from ast import literal_eval\n",
    "\n",
    "\n",
    "def parse_mcp_tools_config(file_path):\n",
    "    try:\n",
    "        with open(file_path, 'r') as f:\n",
    "            content = f.read()\n",
    "        # 使用 literal_eval 安全地解析 Python 字面量\n",
    "        data = literal_eval(content)\n",
    "        return data\n",
    "    except Exception as e:\n",
    "        print(f\"解析错误: {e}\")\n",
    "        return None\n",
    "\n",
    "tool = parse_mcp_tools_config(\"/root/zilin/RL-Factory/envs/configs/bfcl_mcp_tools.pydata\")[0]\n",
    "# tool = parse_mcp_tools_config(\"/hpc/home/minruixu/RL-Factory/envs/configs/mcp_tools.pydata\")[0]\n",
    "\n",
    "tools = MCPManager().initConfig(tool)"
   ]
  },
  {
   "cell_type": "code",
   "execution_count": 3,
   "id": "97984653",
   "metadata": {},
   "outputs": [],
   "source": [
    "example_data = {\"id\": \"multi_turn_miss_func_0\", \"question\": [[{\"role\": \"user\", \"content\": \"Move 'final_report.pdf' within document directory to 'temp' directory in document. Make sure to create the directory\"}], [{\"role\": \"user\", \"content\": \"Perform a detailed search using grep to identify sections in the file pertaining to 'budget analysis'.\"}], [{\"role\": \"user\", \"content\": \"Upon identifying the requisite 'budget analysis' content, sort the 'final_report.pdf' by line for improved clarity and comprehension.\"}], [], [{\"role\": \"user\", \"content\": \"Move 'previous_report.pdf' in document directory to temp as well and having final report also there, proceed to juxtapose it with 'previous_report.pdf' to detect any critical alterations.\"}]], \"initial_config\": {\"GorillaFileSystem\": {\"root\": {\"workspace\": {\"type\": \"directory\", \"contents\": {\"document\": {\"type\": \"directory\", \"contents\": {\"final_report.pdf\": {\"type\": \"file\", \"content\": \"Year2024 This is the final report content including budget analysis and other sections.\"}, \"previous_report.pdf\": {\"type\": \"file\", \"content\": \"Year203 This is the previous report content with different budget analysis.\"}}}, \"archive\": {\"type\": \"directory\", \"contents\": {}}}}}}, \"TwitterAPI\": {\"tweet_counter\": 3, \"tweets\": {\"0\": {\"id\": 0, \"username\": \"analyst_pro\", \"content\": \"Just finished analyzing the reports!\", \"tags\": [\"#analysis\", \"#reports\"], \"mentions\": []}, \"1\": {\"id\": 1, \"username\": \"analyst_pro\", \"content\": \"Budget analysis insights coming soon!\", \"tags\": [\"#budget\", \"#analysis\", \"#insights\"], \"mentions\": []}, \"2\": {\"id\": 2, \"username\": \"analyst_pro\", \"content\": \"Stay tuned for more updates!\", \"tags\": [\"#updates\", \"#staytuned\"], \"mentions\": []}}, \"username\": \"analyst_pro\", \"password\": \"Kj8#mP9$vL2\"}}, \"path\": [\"GorillaFileSystem.find\", \"GorillaFileSystem.mv\", \"GorillaFileSystem.grep\", \"GorillaFileSystem.sort\", \"GorillaFileSystem.diff\", \"TwitterAPI.post_tweet\"], \"involved_classes\": [\"TwitterAPI\", \"GorillaFileSystem\"], \"missed_function\": {\"3\": [\"sort\"]}}"
   ]
  },
  {
   "cell_type": "code",
   "execution_count": 4,
   "id": "fadd9daa",
   "metadata": {},
   "outputs": [
    {
     "data": {
      "text/plain": [
       "'Sucessfully load from scenario.'"
      ]
     },
     "execution_count": 4,
     "metadata": {},
     "output_type": "execute_result"
    }
   ],
   "source": [
    "tools[0].call(\n",
    "    params = json.dumps({\n",
    "        \"scenario\": example_data['initial_config']['GorillaFileSystem']\n",
    "    })\n",
    ")"
   ]
  },
  {
   "cell_type": "code",
   "execution_count": null,
   "id": "73465335",
   "metadata": {},
   "outputs": [],
   "source": []
  }
 ],
 "metadata": {
  "kernelspec": {
   "display_name": "rl",
   "language": "python",
   "name": "python3"
  },
  "language_info": {
   "codemirror_mode": {
    "name": "ipython",
    "version": 3
   },
   "file_extension": ".py",
   "mimetype": "text/x-python",
   "name": "python",
   "nbconvert_exporter": "python",
   "pygments_lexer": "ipython3",
   "version": "3.10.0"
  }
 },
 "nbformat": 4,
 "nbformat_minor": 5
}
