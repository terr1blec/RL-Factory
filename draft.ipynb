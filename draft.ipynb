{
 "cells": [
  {
   "cell_type": "code",
   "execution_count": 1,
   "id": "3906b934",
   "metadata": {},
   "outputs": [
    {
     "name": "stderr",
     "output_type": "stream",
     "text": [
      "2025-08-26 18:31:58,364 - mcp_manager.py - 141 - INFO - Initializing MCP tools from mcp servers: ['file_system', 'search']\n",
      "2025-08-26 18:31:58,378 - mcp_manager.py - 370 - INFO - Initializing a MCP stdio_client, if this takes forever, please check the config of this mcp server: file_system\n",
      "2025-08-26 18:32:10,298 - mcp_manager.py - 370 - INFO - Initializing a MCP stdio_client, if this takes forever, please check the config of this mcp server: search\n"
     ]
    }
   ],
   "source": [
    "from qwen_agent.tools import TOOL_REGISTRY, MCPManager, BaseTool\n",
    "import json\n",
    "from ast import literal_eval\n",
    "\n",
    "\n",
    "def parse_mcp_tools_config(file_path):\n",
    "    try:\n",
    "        with open(file_path, 'r') as f:\n",
    "            content = f.read()\n",
    "        # 使用 literal_eval 安全地解析 Python 字面量\n",
    "        data = literal_eval(content)\n",
    "        return data\n",
    "    except Exception as e:\n",
    "        print(f\"解析错误: {e}\")\n",
    "        return None\n",
    "\n",

    "tool = parse_mcp_tools_config(\"/root/minrui/RL-Factory/envs/configs/bfcl_mcp_tools.pydata\")[0]\n",

    "# tool = parse_mcp_tools_config(\"/hpc/home/minruixu/RL-Factory/envs/configs/mcp_tools.pydata\")[0]\n",
    "\n",
    "tools = MCPManager().initConfig(tool)"
   ]
  },
  {
   "cell_type": "code",
   "execution_count": 5,
   "id": "97984653",
   "metadata": {},
   "outputs": [],
   "source": [
    "# 读取parquet文件\n",
    "import pyarrow.parquet as pq\n",
    "\n",
    "parquet_file = pq.ParquetFile('/home/ma-user/work/RL-Factory/data/BFCL/multi-turn/train.parquet')\n",
    "data = parquet_file.read().to_pandas()"
   ]
  },
  {
   "cell_type": "code",
   "execution_count": 6,

   "id": "fadd9daa",
   "metadata": {},
   "outputs": [
    {
     "name": "stdout",
     "output_type": "stream",
     "text": [
      "file_system-load_scenario\n"
     ]
    },
    {
     "data": {
      "text/plain": [
       "'Sucessfully load from scenario.'"
      ]
     },

     "execution_count": 6,

     "metadata": {},
     "output_type": "execute_result"
    }
   ],
   "source": [

    "print(tools[0].name)\n",
    "tools[0].call(\n",
    "    params = json.dumps({\n",
    "        \"scenario\": example_data['initial_config']['GorillaFileSystem']\n",
    "    })\n",
    ")"

   ]
  },
  {
   "cell_type": "code",
   "execution_count": 8,
   "id": "73465335",
   "metadata": {},
   "outputs": [
    {
     "name": "stdout",
     "output_type": "stream",
     "text": [
      "file_system-save_scenario\n"
     ]
    }
   ],
   "source": [
    "print(tools[1].name)\n",
    "saved_config = tools[1].call(\n",
    "    params = json.dumps({})\n",
    ")"
   ]
  },
  {
   "cell_type": "code",
   "execution_count": 9,
   "id": "dc6a838c",
   "metadata": {},
   "outputs": [
    {
     "name": "stdout",
     "output_type": "stream",
     "text": [
      "{\n",
      "  \"root\": {\n",
      "    \"workspace\": {\n",
      "      \"type\": \"directory\",\n",
      "      \"contents\": {\n",
      "        \"document\": {\n",
      "          \"type\": \"directory\",\n",
      "          \"contents\": {\n",
      "            \"final_report.pdf\": {\n",
      "              \"type\": \"file\",\n",
      "              \"content\": \"Year2024 This is the final report content including budget analysis and other sections.\"\n",
      "            },\n",
      "            \"previous_report.pdf\": {\n",
      "              \"type\": \"file\",\n",
      "              \"content\": \"Year203 This is the previous report content with different budget analysis.\"\n",
      "            }\n",
      "          }\n",
      "        },\n",
      "        \"archive\": {\n",
      "          \"type\": \"directory\",\n",
      "          \"contents\": {}\n",
      "        }\n",
      "      }\n",
      "    }\n",
      "  }\n",
      "}\n"
     ]
    }
   ],
   "source": [
    "print(saved_config)"
   ]
  },
  {
   "cell_type": "code",
   "execution_count": 13,
   "id": "6519ed23",
   "metadata": {},
   "outputs": [
    {
     "data": {
      "text/plain": [
       "True"
      ]
     },
     "execution_count": 13,
     "metadata": {},
     "output_type": "execute_result"
    }
   ],
   "source": [
    "json.loads(saved_config) == example_data['initial_config']['GorillaFileSystem']"
   ]
  },
  {
   "cell_type": "code",
   "execution_count": null,
   "id": "e3466332",
   "metadata": {},
   "outputs": [],
   "source": []
  }
 ],
 "metadata": {
  "kernelspec": {

   "display_name": "rl",

   "language": "python",
   "name": "python3"
  },
  "language_info": {
   "codemirror_mode": {
    "name": "ipython",
    "version": 3
   },
   "file_extension": ".py",
   "mimetype": "text/x-python",
   "name": "python",
   "nbconvert_exporter": "python",
   "pygments_lexer": "ipython3",

   "version": "3.10.0"

  }
 },
 "nbformat": 4,
 "nbformat_minor": 5
}
