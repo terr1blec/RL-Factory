{
 "cells": [
  {
   "cell_type": "code",
   "execution_count": null,
   "id": "3906b934",
   "metadata": {},
   "outputs": [
    {
     "ename": "TypeError",
     "evalue": "QwenManager.__init__() missing 1 required positional argument: 'verl_config'",
     "output_type": "error",
     "traceback": [
      "\u001b[0;31m---------------------------------------------------------------------------\u001b[0m",
      "\u001b[0;31mTypeError\u001b[0m                                 Traceback (most recent call last)",
      "Cell \u001b[0;32mIn[2], line 19\u001b[0m\n\u001b[1;32m     16\u001b[0m tool \u001b[38;5;241m=\u001b[39m parse_mcp_tools_config(\u001b[38;5;124m\"\u001b[39m\u001b[38;5;124m/home/ma-user/work/RL-Factory/envs/configs/bfcl_mcp_tools.pydata\u001b[39m\u001b[38;5;124m\"\u001b[39m)[\u001b[38;5;241m0\u001b[39m]\n\u001b[1;32m     17\u001b[0m \u001b[38;5;66;03m# tool = parse_mcp_tools_config(\"/hpc/home/minruixu/RL-Factory/envs/configs/mcp_tools.pydata\")[0]\u001b[39;00m\n\u001b[0;32m---> 19\u001b[0m tools \u001b[38;5;241m=\u001b[39m \u001b[43mQwenManager\u001b[49m\u001b[43m(\u001b[49m\u001b[43m)\u001b[49m\u001b[38;5;241m.\u001b[39minitConfig(tool)\n",
      "\u001b[0;31mTypeError\u001b[0m: QwenManager.__init__() missing 1 required positional argument: 'verl_config'"
     ]
    }
   ],
   "source": [
    "import json\n",
    "from ast import literal_eval\n",
    "from envs.tool_manager.qwen3_manager import QwenManager\n",
    "\n",
    "\n",
    "tools = QwenManager().initConfig(tool)"
   ]
  },
  {
   "cell_type": "code",
   "execution_count": 2,
   "id": "97984653",
   "metadata": {},
   "outputs": [],
   "source": [
    "example_data = {\"id\": \"multi_turn_miss_func_0\", \"question\": [[{\"role\": \"user\", \"content\": \"Move 'final_report.pdf' within document directory to 'temp' directory in document. Make sure to create the directory\"}], [{\"role\": \"user\", \"content\": \"Perform a detailed search using grep to identify sections in the file pertaining to 'budget analysis'.\"}], [{\"role\": \"user\", \"content\": \"Upon identifying the requisite 'budget analysis' content, sort the 'final_report.pdf' by line for improved clarity and comprehension.\"}], [], [{\"role\": \"user\", \"content\": \"Move 'previous_report.pdf' in document directory to temp as well and having final report also there, proceed to juxtapose it with 'previous_report.pdf' to detect any critical alterations.\"}]], \"initial_config\": {\"GorillaFileSystem\": {\"root\": {\"workspace\": {\"type\": \"directory\", \"contents\": {\"document\": {\"type\": \"directory\", \"contents\": {\"final_report.pdf\": {\"type\": \"file\", \"content\": \"Year2024 This is the final report content including budget analysis and other sections.\"}, \"previous_report.pdf\": {\"type\": \"file\", \"content\": \"Year203 This is the previous report content with different budget analysis.\"}}}, \"archive\": {\"type\": \"directory\", \"contents\": {}}}}}}, \"TwitterAPI\": {\"tweet_counter\": 3, \"tweets\": {\"0\": {\"id\": 0, \"username\": \"analyst_pro\", \"content\": \"Just finished analyzing the reports!\", \"tags\": [\"#analysis\", \"#reports\"], \"mentions\": []}, \"1\": {\"id\": 1, \"username\": \"analyst_pro\", \"content\": \"Budget analysis insights coming soon!\", \"tags\": [\"#budget\", \"#analysis\", \"#insights\"], \"mentions\": []}, \"2\": {\"id\": 2, \"username\": \"analyst_pro\", \"content\": \"Stay tuned for more updates!\", \"tags\": [\"#updates\", \"#staytuned\"], \"mentions\": []}}, \"username\": \"analyst_pro\", \"password\": \"Kj8#mP9$vL2\"}}, \"path\": [\"GorillaFileSystem.find\", \"GorillaFileSystem.mv\", \"GorillaFileSystem.grep\", \"GorillaFileSystem.sort\", \"GorillaFileSystem.diff\", \"TwitterAPI.post_tweet\"], \"involved_classes\": [\"TwitterAPI\", \"GorillaFileSystem\"], \"missed_function\": {\"3\": [\"sort\"]}}"
   ]
  },
  {
   "cell_type": "code",
   "execution_count": 3,
   "id": "fadd9daa",
   "metadata": {},
   "outputs": [
    {
     "data": {
      "text/plain": [
       "'Sucessfully load from scenario.'"
      ]
     },
     "execution_count": 3,
     "metadata": {},
     "output_type": "execute_result"
    }
   ],
   "source": [
    "tools[0].call(\n",
    "    params = json.dumps({\n",
    "        \"scenario\": example_data['initial_config']['GorillaFileSystem']\n",
    "    })\n",
    ")"
   ]
  },
  {
   "cell_type": "code",
   "execution_count": null,
   "id": "73465335",
   "metadata": {},
   "outputs": [],
   "source": []
  }
 ],
 "metadata": {
  "kernelspec": {
   "display_name": "PyTorch-2.1.0",
   "language": "python",
   "name": "python3"
  },
  "language_info": {
   "codemirror_mode": {
    "name": "ipython",
    "version": 3
   },
   "file_extension": ".py",
   "mimetype": "text/x-python",
   "name": "python",
   "nbconvert_exporter": "python",
   "pygments_lexer": "ipython3",
   "version": "3.10.6"
  }
 },
 "nbformat": 4,
 "nbformat_minor": 5
}
